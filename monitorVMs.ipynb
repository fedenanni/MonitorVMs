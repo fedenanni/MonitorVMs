{
 "metadata": {
  "language_info": {
   "codemirror_mode": {
    "name": "ipython",
    "version": 3
   },
   "file_extension": ".py",
   "mimetype": "text/x-python",
   "name": "python",
   "nbconvert_exporter": "python",
   "pygments_lexer": "ipython3",
   "version": "3.6.8"
  },
  "orig_nbformat": 2,
  "kernelspec": {
   "name": "py37torch",
   "display_name": "py37torch",
   "language": "python"
  }
 },
 "nbformat": 4,
 "nbformat_minor": 2,
 "cells": [
  {
   "cell_type": "code",
   "execution_count": 36,
   "metadata": {},
   "outputs": [
    {
     "output_type": "error",
     "ename": "SyntaxError",
     "evalue": "invalid syntax (<ipython-input-36-c9eda1e75d3c>, line 5)",
     "traceback": [
      "\u001b[0;36m  File \u001b[0;32m\"<ipython-input-36-c9eda1e75d3c>\"\u001b[0;36m, line \u001b[0;32m5\u001b[0m\n\u001b[0;31m    bashCmd = 'az vm list --subscription b8871872-a5e3-473f-b9b9-f4baaab6a9a0 -d -o tsv --query \"[?powerState=='VM running'].{resource:resourceGroup, name:name'\u001b[0m\n\u001b[0m                                                                                                                 ^\u001b[0m\n\u001b[0;31mSyntaxError\u001b[0m\u001b[0;31m:\u001b[0m invalid syntax\n"
     ]
    }
   ],
   "source": [
    "import subprocess\n",
    "import pandas as pd\n",
    "\n",
    "def monitor(subscription_id):\n",
    "    bashCmd = 'az vm list --subscription b8871872-a5e3-473f-b9b9-f4baaab6a9a0 -d -o tsv --query \"[?powerState=='VM running'].{resource:resourceGroup, name:name'\n",
    "\n",
    "    process = subprocess.Popen(bashCmd.split(), stdout=subprocess.PIPE)\n",
    "    \n",
    "    output, error = process.communicate()\n",
    "    return output.decode(\"utf-8\") \n",
    "\n",
    "data = monitor(\"b8871872-a5e3-473f-b9b9-f4baaab6a9a0\")"
   ]
  },
  {
   "cell_type": "code",
   "execution_count": 34,
   "metadata": {},
   "outputs": [
    {
     "output_type": "execute_result",
     "data": {
      "text/plain": [
       "''"
      ]
     },
     "metadata": {},
     "execution_count": 34
    }
   ],
   "source": []
  },
  {
   "cell_type": "code",
   "execution_count": 29,
   "metadata": {},
   "outputs": [
    {
     "output_type": "execute_result",
     "data": {
      "text/plain": [
       "   None None.1 None.2 Unnamed: 3 None.3 None.4 None.5  \\\n",
       "0  None   None   None       None   None   None   None   \n",
       "1  None   None   None        NaN   None   None   None   \n",
       "2  None   None   None        NaN   None   None   None   \n",
       "3  None   None   None        NaN   None   None   None   \n",
       "4  None   None   None        NaN   None   None   None   \n",
       "\n",
       "       demofede.centralus.cloudapp.azure.com  Unnamed: 8 None.6  ...  \\\n",
       "0  placelinking.centralus.cloudapp.azure.com         NaN   None  ...   \n",
       "1                                        NaN         NaN   None  ...   \n",
       "2                                        NaN         NaN   None  ...   \n",
       "3                                        NaN         NaN   None  ...   \n",
       "4                                        NaN         NaN   None  ...   \n",
       "\n",
       "     40.69.149.250  FEDE-PLAYGROUND  2 None.14 Unnamed: 30 None.15  \\\n",
       "0     40.122.49.68  FEDE-PLAYGROUND  3    None         NaN     NaN   \n",
       "1              NaN  DAVE-PLAYGROUND  2    None         NaN     NaN   \n",
       "2   40.127.190.255   DVS-PLAYGROUND  1    None         NaN    None   \n",
       "3  137.135.140.164      JISC-INGEST  1    None         NaN    None   \n",
       "4              NaN   MAPS-INFERENCE  2    None         NaN    None   \n",
       "\n",
       "   Microsoft.Compute/virtualMachines  None.16  \\\n",
       "0  Microsoft.Compute/virtualMachines     None   \n",
       "1  Microsoft.Compute/virtualMachines     None   \n",
       "2  Microsoft.Compute/virtualMachines     None   \n",
       "3  Microsoft.Compute/virtualMachines     None   \n",
       "4  Microsoft.Compute/virtualMachines     None   \n",
       "\n",
       "   145ddebc-5375-4be5-baa3-a876bffe9738 None.17  \n",
       "0  1f035c3a-6eb9-46e7-aece-17837eaaabf6    None  \n",
       "1  cca9ddcf-d242-4f71-b0af-14405ecef540    None  \n",
       "2  babeeee9-ff55-4010-b354-4b5f3f4a26e4    None  \n",
       "3  e6f42e00-b43c-4c09-9ef6-a6cf8ec2ec11    None  \n",
       "4  299f4022-34b3-47c8-b4b2-5e0db21fa62e    None  \n",
       "\n",
       "[5 rows x 36 columns]"
      ],
      "text/html": "<div>\n<style scoped>\n    .dataframe tbody tr th:only-of-type {\n        vertical-align: middle;\n    }\n\n    .dataframe tbody tr th {\n        vertical-align: top;\n    }\n\n    .dataframe thead th {\n        text-align: right;\n    }\n</style>\n<table border=\"1\" class=\"dataframe\">\n  <thead>\n    <tr style=\"text-align: right;\">\n      <th></th>\n      <th>None</th>\n      <th>None.1</th>\n      <th>None.2</th>\n      <th>Unnamed: 3</th>\n      <th>None.3</th>\n      <th>None.4</th>\n      <th>None.5</th>\n      <th>demofede.centralus.cloudapp.azure.com</th>\n      <th>Unnamed: 8</th>\n      <th>None.6</th>\n      <th>...</th>\n      <th>40.69.149.250</th>\n      <th>FEDE-PLAYGROUND</th>\n      <th>2</th>\n      <th>None.14</th>\n      <th>Unnamed: 30</th>\n      <th>None.15</th>\n      <th>Microsoft.Compute/virtualMachines</th>\n      <th>None.16</th>\n      <th>145ddebc-5375-4be5-baa3-a876bffe9738</th>\n      <th>None.17</th>\n    </tr>\n  </thead>\n  <tbody>\n    <tr>\n      <td>0</td>\n      <td>None</td>\n      <td>None</td>\n      <td>None</td>\n      <td>None</td>\n      <td>None</td>\n      <td>None</td>\n      <td>None</td>\n      <td>placelinking.centralus.cloudapp.azure.com</td>\n      <td>NaN</td>\n      <td>None</td>\n      <td>...</td>\n      <td>40.122.49.68</td>\n      <td>FEDE-PLAYGROUND</td>\n      <td>3</td>\n      <td>None</td>\n      <td>NaN</td>\n      <td>NaN</td>\n      <td>Microsoft.Compute/virtualMachines</td>\n      <td>None</td>\n      <td>1f035c3a-6eb9-46e7-aece-17837eaaabf6</td>\n      <td>None</td>\n    </tr>\n    <tr>\n      <td>1</td>\n      <td>None</td>\n      <td>None</td>\n      <td>None</td>\n      <td>NaN</td>\n      <td>None</td>\n      <td>None</td>\n      <td>None</td>\n      <td>NaN</td>\n      <td>NaN</td>\n      <td>None</td>\n      <td>...</td>\n      <td>NaN</td>\n      <td>DAVE-PLAYGROUND</td>\n      <td>2</td>\n      <td>None</td>\n      <td>NaN</td>\n      <td>NaN</td>\n      <td>Microsoft.Compute/virtualMachines</td>\n      <td>None</td>\n      <td>cca9ddcf-d242-4f71-b0af-14405ecef540</td>\n      <td>None</td>\n    </tr>\n    <tr>\n      <td>2</td>\n      <td>None</td>\n      <td>None</td>\n      <td>None</td>\n      <td>NaN</td>\n      <td>None</td>\n      <td>None</td>\n      <td>None</td>\n      <td>NaN</td>\n      <td>NaN</td>\n      <td>None</td>\n      <td>...</td>\n      <td>40.127.190.255</td>\n      <td>DVS-PLAYGROUND</td>\n      <td>1</td>\n      <td>None</td>\n      <td>NaN</td>\n      <td>None</td>\n      <td>Microsoft.Compute/virtualMachines</td>\n      <td>None</td>\n      <td>babeeee9-ff55-4010-b354-4b5f3f4a26e4</td>\n      <td>None</td>\n    </tr>\n    <tr>\n      <td>3</td>\n      <td>None</td>\n      <td>None</td>\n      <td>None</td>\n      <td>NaN</td>\n      <td>None</td>\n      <td>None</td>\n      <td>None</td>\n      <td>NaN</td>\n      <td>NaN</td>\n      <td>None</td>\n      <td>...</td>\n      <td>137.135.140.164</td>\n      <td>JISC-INGEST</td>\n      <td>1</td>\n      <td>None</td>\n      <td>NaN</td>\n      <td>None</td>\n      <td>Microsoft.Compute/virtualMachines</td>\n      <td>None</td>\n      <td>e6f42e00-b43c-4c09-9ef6-a6cf8ec2ec11</td>\n      <td>None</td>\n    </tr>\n    <tr>\n      <td>4</td>\n      <td>None</td>\n      <td>None</td>\n      <td>None</td>\n      <td>NaN</td>\n      <td>None</td>\n      <td>None</td>\n      <td>None</td>\n      <td>NaN</td>\n      <td>NaN</td>\n      <td>None</td>\n      <td>...</td>\n      <td>NaN</td>\n      <td>MAPS-INFERENCE</td>\n      <td>2</td>\n      <td>None</td>\n      <td>NaN</td>\n      <td>None</td>\n      <td>Microsoft.Compute/virtualMachines</td>\n      <td>None</td>\n      <td>299f4022-34b3-47c8-b4b2-5e0db21fa62e</td>\n      <td>None</td>\n    </tr>\n  </tbody>\n</table>\n<p>5 rows × 36 columns</p>\n</div>"
     },
     "metadata": {},
     "execution_count": 29
    }
   ],
   "source": [
    "from io import StringIO\n",
    "import pandas as pd\n",
    "\n",
    "TESTDATA = StringIO(data)\n",
    "df = pd.read_csv(TESTDATA, sep=\"\\t\")\n",
    "df.head()"
   ]
  }
 ]
}